{
  "nbformat": 4,
  "nbformat_minor": 0,
  "metadata": {
    "colab": {
      "name": "DocQA_example.ipynb",
      "provenance": [],
      "collapsed_sections": [],
      "authorship_tag": "ABX9TyPo0xYtL+cYJfNl6lhkeDjX",
      "include_colab_link": true
    },
    "kernelspec": {
      "name": "python3",
      "display_name": "Python 3"
    },
    "language_info": {
      "name": "python"
    }
  },
  "cells": [
    {
      "cell_type": "markdown",
      "metadata": {
        "id": "view-in-github",
        "colab_type": "text"
      },
      "source": [
        "<a href=\"https://colab.research.google.com/github/amazingvince/docqa/blob/main/DocQA_example.ipynb\" target=\"_parent\"><img src=\"https://colab.research.google.com/assets/colab-badge.svg\" alt=\"Open In Colab\"/></a>"
      ]
    },
    {
      "cell_type": "code",
      "execution_count": null,
      "metadata": {
        "id": "yS9UNjHnAAS9"
      },
      "outputs": [],
      "source": [
        "!git clone https://github.com/impira/docqa.git\n",
        "!sudo apt install tesseract-ocr\n",
        "!sudo apt-get install poppler-utils\n",
        "!cd docqa && pip install .[all] "
      ]
    },
    {
      "cell_type": "code",
      "source": [
        "!docqa scan \"who authored this paper?\" https://arxiv.org/pdf/2101.07597.pdf"
      ],
      "metadata": {
        "id": "bKRRY5u2DV52"
      },
      "execution_count": null,
      "outputs": []
    }
  ]
}
